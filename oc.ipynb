{
 "nbformat": 4,
 "nbformat_minor": 2,
 "metadata": {
  "language_info": {
   "name": "python",
   "codemirror_mode": {
    "name": "ipython",
    "version": 3
   },
   "version": "3.7.5-final"
  },
  "orig_nbformat": 2,
  "file_extension": ".py",
  "mimetype": "text/x-python",
  "name": "python",
  "npconvert_exporter": "python",
  "pygments_lexer": "ipython3",
  "version": 3,
  "kernelspec": {
   "name": "python37564bitpy37conda77ac5beb731349fc9914c857e6b71b0f",
   "display_name": "Python 3.7.5 64-bit ('py37': conda)"
  }
 },
 "cells": [
  {
   "cell_type": "code",
   "execution_count": 58,
   "metadata": {},
   "outputs": [],
   "source": [
    "# Based on https://gist.github.com/AO8/63b9a5acb9fb238cbed13a0269d14137\n",
    "# Collects and parses data posted by OC Health\n",
    "import csv\n",
    "from urllib.request import urlopen\n",
    "from bs4 import BeautifulSoup\n",
    "import datetime\n",
    "import json"
   ]
  },
  {
   "cell_type": "code",
   "execution_count": 160,
   "metadata": {},
   "outputs": [],
   "source": [
    "url = \"https://occovid19.ochealthinfo.com/coronavirus-in-oc\"\n",
    "\n",
    "def get_todays_info(the_url):\n",
    "    html = urlopen(url)\n",
    "    soup = BeautifulSoup(html, \"html.parser\")\n",
    "    tables = soup.findAll(\"table\")\n",
    "    tests_table = tables[0]\n",
    "    city_table = tables[1]\n",
    "    demo_table = tables[2]\n",
    "    return (tests_table, city_table, demo_table)\n",
    "\n",
    "def html_table_to_list(table):\n",
    "    list_table = []\n",
    "    for row in table.findAll(\"tr\"):\n",
    "        row_table = []\n",
    "        for cell in row.findAll([\"td\", \"th\"]):\n",
    "            row_table.append(cell.get_text())\n",
    "        list_table.append(row_table)\n",
    "    return list_table\n",
    "\n",
    "def get_todays_lists(the_url):\n",
    "    tables = get_todays_info(the_url)\n",
    "    the_lists = [html_table_to_list(table) for table in tables]\n",
    "    return the_lists\n",
    "\n",
    "def get_todays_json(the_url):\n",
    "    # Get lists from today's tables\n",
    "    todays_lists = get_todays_lists(the_url)\n",
    "\n",
    "    # Get date table was updated\n",
    "    todays_date_list = str(todays_lists[-1][0][0]).split('\\n')[-2].split(\"Report ending date\")[-1].split(' ')[-3:]\n",
    "    todays_date_string = todays_date_list[0]+\" \"+todays_date_list[1]+\" \"+todays_date_list[2]\n",
    "    todays_date = datetime.datetime.strptime(todays_date_string, '%B %d, %Y')\n",
    "    \n",
    "    todays_json = {}\n",
    "    todays_json[\"date\"] = todays_date\n",
    "    todays_json[\"tests\"] = {}\n",
    "    todays_json[\"populations\"] = {}\n",
    "    todays_json[\"city_cases\"] = {}\n",
    "    for row in todays_lists[1][1:]:\n",
    "        if row[0] != 'Total Population':\n",
    "            todays_json[\"city_cases\"][row[0]] = int(row[-1])\n",
    "    for row in todays_lists[1][1:-5]:\n",
    "        todays_json[\"populations\"][row[0]] = int(row[1].replace(',', ''))\n",
    "    todays_json[\"tests\"][\"people_tested\"] = int(todays_lists[0][0][-1].replace(',', ''))\n",
    "    todays_json[\"tests\"][\"kits_available\"] = int(todays_lists[0][1][-1].replace(',', ''))\n",
    "\n",
    "    todays_json[\"Stats\"] = {}\n",
    "    rows = [\"TotalCases\", \"Deaths\", \"TravelRelated\", \"PersonToPerson\", \"CommunityAcquired\", \"UnderInvestigation\"]\n",
    "    cols = [\"Total\", \"Male\", \"Female\", \"OtherGender\", \"Under18\", \"18to49\", \"50to64\", \"65andUp\", \"UnknownAge\"]\n",
    "    for i,row in enumerate(todays_lists[2][3:-1]):\n",
    "        todays_json[\"Stats\"][rows[i]] = {}\n",
    "        for j,col in enumerate(cols):\n",
    "            todays_json[\"Stats\"][rows[i]][cols[j]] = int(row[j+1].replace('\\n','').replace(',',''))\n",
    "    return todays_json\n",
    ""
   ]
  },
  {
   "cell_type": "code",
   "execution_count": 161,
   "metadata": {},
   "outputs": [
    {
     "output_type": "execute_result",
     "data": {
      "text/plain": "{'date': datetime.datetime(2020, 3, 26, 0, 0),\n 'tests': {'people_tested': 4070, 'kits_available': 1151},\n 'populations': {'Aliso Viejo': 51372,\n  'Anaheim': 359339,\n  'Brea': 45606,\n  'Buena Park': 83384,\n  'Costa Mesa': 115830,\n  'Cypress': 49833,\n  'Dana Point': 34249,\n  'Fountain Valley': 56652,\n  'Fullerton': 142824,\n  'Garden Grove': 175155,\n  'Huntington Beach': 203761,\n  'Irvine': 280202,\n  'La Habra': 63542,\n  'Laguna Niguel': 66748,\n  'Lake Forest': 86346,\n  'Mission Viejo': 96434,\n  'Newport Beach': 87180,\n  'Orange': 141691,\n  'Placentia': 52333,\n  'Rancho Santa Margarita': 48960,\n  'San Clemente': 65405,\n  'San Juan Capistrano': 36821,\n  'Santa Ana': 337716,\n  'Seal Beach': 25073,\n  'Stanton': 39307,\n  'Tustin': 81369,\n  'Westminster': 92610,\n  'Yorba Linda': 68706},\n 'city_cases': {'Aliso Viejo': 2,\n  'Anaheim': 28,\n  'Brea': 1,\n  'Buena Park': 7,\n  'Costa Mesa': 8,\n  'Cypress': 6,\n  'Dana Point': 7,\n  'Fountain Valley': 5,\n  'Fullerton': 7,\n  'Garden Grove': 4,\n  'Huntington Beach': 26,\n  'Irvine': 33,\n  'La Habra': 1,\n  'Laguna Niguel': 11,\n  'Lake Forest': 5,\n  'Mission Viejo': 6,\n  'Newport Beach': 32,\n  'Orange': 11,\n  'Placentia': 5,\n  'Rancho Santa Margarita': 3,\n  'San Clemente': 10,\n  'San Juan Capistrano': 9,\n  'Santa Ana': 13,\n  'Seal Beach': 1,\n  'Stanton': 0,\n  'Tustin': 4,\n  'Westminster': 5,\n  'Yorba Linda': 10,\n  'Other 1': 27,\n  'Unknown 2': 34,\n  'Total Cases': 321,\n  'Deaths': 3},\n 'Stats': {'TotalCases': {'Total': 250,\n   'Male': 149,\n   'Female': 101,\n   'OtherGender': 0,\n   'Under18': 1,\n   '18to49': 134,\n   '50to64': 76,\n   '65andUp': 39,\n   'UnknownAge': 0},\n  'Deaths': {'Total': 1,\n   'Male': 1,\n   'Female': 0,\n   'OtherGender': 0,\n   'Under18': 0,\n   '18to49': 0,\n   '50to64': 0,\n   '65andUp': 1,\n   'UnknownAge': 0},\n  'TravelRelated': {'Total': 75,\n   'Male': 42,\n   'Female': 33,\n   'OtherGender': 0,\n   'Under18': 0,\n   '18to49': 40,\n   '50to64': 21,\n   '65andUp': 14,\n   'UnknownAge': 0},\n  'PersonToPerson': {'Total': 27,\n   'Male': 20,\n   'Female': 7,\n   'OtherGender': 0,\n   'Under18': 0,\n   '18to49': 15,\n   '50to64': 7,\n   '65andUp': 5,\n   'UnknownAge': 0},\n  'CommunityAcquired': {'Total': 75,\n   'Male': 49,\n   'Female': 26,\n   'OtherGender': 0,\n   'Under18': 1,\n   '18to49': 37,\n   '50to64': 22,\n   '65andUp': 15,\n   'UnknownAge': 0},\n  'UnderInvestigation': {'Total': 73,\n   'Male': 39,\n   'Female': 35,\n   'OtherGender': 0,\n   'Under18': 0,\n   '18to49': 42,\n   '50to64': 26,\n   '65andUp': 5,\n   'UnknownAge': 0}}}"
     },
     "metadata": {},
     "execution_count": 161
    }
   ],
   "source": [
    "get_todays_json(url)"
   ]
  },
  {
   "cell_type": "code",
   "execution_count": 68,
   "metadata": {},
   "outputs": [
    {
     "output_type": "execute_result",
     "data": {
      "text/plain": "True"
     },
     "metadata": {},
     "execution_count": 68
    }
   ],
   "source": [
    "\"–\" == \"–\""
   ]
  },
  {
   "cell_type": "code",
   "execution_count": null,
   "metadata": {},
   "outputs": [],
   "source": []
  }
 ]
}