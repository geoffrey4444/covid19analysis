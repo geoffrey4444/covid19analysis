{
 "nbformat": 4,
 "nbformat_minor": 2,
 "metadata": {
  "language_info": {
   "name": "python",
   "codemirror_mode": {
    "name": "ipython",
    "version": 3
   },
   "version": "3.7.5-final"
  },
  "orig_nbformat": 2,
  "file_extension": ".py",
  "mimetype": "text/x-python",
  "name": "python",
  "npconvert_exporter": "python",
  "pygments_lexer": "ipython3",
  "version": 3,
  "kernelspec": {
   "name": "python37564bitpy37conda77ac5beb731349fc9914c857e6b71b0f",
   "display_name": "Python 3.7.5 64-bit ('py37': conda)"
  }
 },
 "cells": [
  {
   "cell_type": "code",
   "execution_count": 1,
   "metadata": {},
   "outputs": [],
   "source": [
    "# Based on https://gist.github.com/AO8/63b9a5acb9fb238cbed13a0269d14137\n",
    "# Collects and parses data posted by OC Health\n",
    "import csv\n",
    "from urllib.request import urlopen\n",
    "from bs4 import BeautifulSoup\n",
    "import datetime\n",
    "import json"
   ]
  },
  {
   "cell_type": "code",
   "execution_count": 2,
   "metadata": {},
   "outputs": [],
   "source": [
    "url = \"https://occovid19.ochealthinfo.com/coronavirus-in-oc\"\n",
    "out_filename = \"oc_data.json\"\n",
    "\n",
    "def get_todays_info(the_url):\n",
    "    html = urlopen(url)\n",
    "    soup = BeautifulSoup(html, \"html.parser\")\n",
    "    tables = soup.findAll(\"table\")\n",
    "    tests_table = tables[0]\n",
    "    city_table = tables[1]\n",
    "    demo_table = tables[2]\n",
    "    return (tests_table, city_table, demo_table, soup)\n",
    "\n",
    "def html_table_to_list(table):\n",
    "    list_table = []\n",
    "    for row in table.findAll(\"tr\"):\n",
    "        row_table = []\n",
    "        for cell in row.findAll([\"td\", \"th\"]):\n",
    "            row_table.append(cell.get_text())\n",
    "        list_table.append(row_table)\n",
    "    return list_table\n",
    "\n",
    "def get_todays_lists(the_url):\n",
    "    tables = get_todays_info(the_url)\n",
    "    the_lists = [html_table_to_list(table) for table in tables]\n",
    "    todays_date_string = str(tables[-1].text.split('Posted Date:')[-1].split('\\n')[0].replace(' ',''))\n",
    "    return the_lists, todays_date_string\n",
    "\n",
    "def get_todays_json(the_url):\n",
    "    # Get lists from today's tables\n",
    "    todays_lists, todays_date_string = get_todays_lists(the_url)\n",
    "    \n",
    "    todays_json = {}\n",
    "    todays_json[\"date\"] = todays_date_string\n",
    "    todays_json[\"tests\"] = {}\n",
    "    todays_json[\"populations\"] = {}\n",
    "    todays_json[\"city_cases\"] = {}\n",
    "    for row in todays_lists[1][1:]:\n",
    "        if row[0] != 'Total Population':\n",
    "            todays_json[\"city_cases\"][row[0]] = int(row[-1])\n",
    "    for row in todays_lists[1][1:-5]:\n",
    "        todays_json[\"populations\"][row[0]] = int(row[1].replace(',', ''))\n",
    "    todays_json[\"tests\"][\"people_tested\"] = int(todays_lists[0][0][-1].replace(',', ''))\n",
    "    todays_json[\"tests\"][\"kits_available\"] = int(todays_lists[0][1][-1].replace(',', '').replace('specimens',''))\n",
    "\n",
    "    todays_json[\"Stats\"] = {}\n",
    "    rows = [\"TotalCases\", \"Deaths\", \"TravelRelated\", \"PersonToPerson\", \"CommunityAcquired\", \"UnderInvestigation\"]\n",
    "    cols = [\"Total\", \"Male\", \"Female\", \"OtherGender\", \"Under18\", \"18to49\", \"50to64\", \"65andUp\", \"UnknownAge\"]\n",
    "    for i,row in enumerate(todays_lists[2][3:-1]):\n",
    "        todays_json[\"Stats\"][rows[i]] = {}\n",
    "        for j,col in enumerate(cols):\n",
    "            todays_json[\"Stats\"][rows[i]][cols[j]] = int(row[j+1].replace('\\n','').replace(',',''))\n",
    "    print(todays_date_string)\n",
    "    return todays_date_string, todays_json\n",
    "\n",
    "def append_todays_json(the_out_filename, the_url):\n",
    "    date_string, todays_json = get_todays_json(url)\n",
    "    with open(the_out_filename, 'r') as saved_json_file:\n",
    "        saved_json = json.load(saved_json_file)\n",
    "    if date_string not in saved_json:\n",
    "        out_json = saved_json\n",
    "        out_json[date_string] = todays_json\n",
    "        with open(the_out_filename, 'w') as out_json_file:\n",
    "            json.dump(out_json, out_json_file)"
   ]
  },
  {
   "cell_type": "code",
   "execution_count": 3,
   "metadata": {},
   "outputs": [],
   "source": [
    "# First time, just output a base file\n",
    "# todays_json = get_todays_json(url)\n",
    "# json_base = {}\n",
    "# json_base[\"March 26, 2020\"] = todays_json\n",
    "# with open(out_filename, 'w') as file:\n",
    "#     json.dump(json_base, file)"
   ]
  },
  {
   "cell_type": "code",
   "execution_count": 4,
   "metadata": {},
   "outputs": [
    {
     "output_type": "error",
     "ename": "NameError",
     "evalue": "name 'date_string' is not defined",
     "traceback": [
      "\u001b[0;31m---------------------------------------------------------------------------\u001b[0m",
      "\u001b[0;31mNameError\u001b[0m                                 Traceback (most recent call last)",
      "\u001b[0;32m<ipython-input-4-570d1121cbce>\u001b[0m in \u001b[0;36m<module>\u001b[0;34m\u001b[0m\n\u001b[1;32m      1\u001b[0m \u001b[0;31m# Append to the base file if today's data is different\u001b[0m\u001b[0;34m\u001b[0m\u001b[0;34m\u001b[0m\u001b[0;34m\u001b[0m\u001b[0m\n\u001b[0;32m----> 2\u001b[0;31m \u001b[0mappend_todays_json\u001b[0m\u001b[0;34m(\u001b[0m\u001b[0mout_filename\u001b[0m\u001b[0;34m,\u001b[0m \u001b[0murl\u001b[0m\u001b[0;34m)\u001b[0m\u001b[0;34m\u001b[0m\u001b[0;34m\u001b[0m\u001b[0m\n\u001b[0m",
      "\u001b[0;32m<ipython-input-2-fa403db7052a>\u001b[0m in \u001b[0;36mappend_todays_json\u001b[0;34m(the_out_filename, the_url)\u001b[0m\n\u001b[1;32m     54\u001b[0m \u001b[0;34m\u001b[0m\u001b[0m\n\u001b[1;32m     55\u001b[0m \u001b[0;32mdef\u001b[0m \u001b[0mappend_todays_json\u001b[0m\u001b[0;34m(\u001b[0m\u001b[0mthe_out_filename\u001b[0m\u001b[0;34m,\u001b[0m \u001b[0mthe_url\u001b[0m\u001b[0;34m)\u001b[0m\u001b[0;34m:\u001b[0m\u001b[0;34m\u001b[0m\u001b[0;34m\u001b[0m\u001b[0m\n\u001b[0;32m---> 56\u001b[0;31m     \u001b[0mdate_string\u001b[0m\u001b[0;34m,\u001b[0m \u001b[0mtodays_json\u001b[0m \u001b[0;34m=\u001b[0m \u001b[0mget_todays_json\u001b[0m\u001b[0;34m(\u001b[0m\u001b[0murl\u001b[0m\u001b[0;34m)\u001b[0m\u001b[0;34m\u001b[0m\u001b[0;34m\u001b[0m\u001b[0m\n\u001b[0m\u001b[1;32m     57\u001b[0m     \u001b[0;32mwith\u001b[0m \u001b[0mopen\u001b[0m\u001b[0;34m(\u001b[0m\u001b[0mthe_out_filename\u001b[0m\u001b[0;34m,\u001b[0m \u001b[0;34m'r'\u001b[0m\u001b[0;34m)\u001b[0m \u001b[0;32mas\u001b[0m \u001b[0msaved_json_file\u001b[0m\u001b[0;34m:\u001b[0m\u001b[0;34m\u001b[0m\u001b[0;34m\u001b[0m\u001b[0m\n\u001b[1;32m     58\u001b[0m         \u001b[0msaved_json\u001b[0m \u001b[0;34m=\u001b[0m \u001b[0mjson\u001b[0m\u001b[0;34m.\u001b[0m\u001b[0mload\u001b[0m\u001b[0;34m(\u001b[0m\u001b[0msaved_json_file\u001b[0m\u001b[0;34m)\u001b[0m\u001b[0;34m\u001b[0m\u001b[0;34m\u001b[0m\u001b[0m\n",
      "\u001b[0;32m<ipython-input-2-fa403db7052a>\u001b[0m in \u001b[0;36mget_todays_json\u001b[0;34m(the_url)\u001b[0m\n\u001b[1;32m     28\u001b[0m \u001b[0;32mdef\u001b[0m \u001b[0mget_todays_json\u001b[0m\u001b[0;34m(\u001b[0m\u001b[0mthe_url\u001b[0m\u001b[0;34m)\u001b[0m\u001b[0;34m:\u001b[0m\u001b[0;34m\u001b[0m\u001b[0;34m\u001b[0m\u001b[0m\n\u001b[1;32m     29\u001b[0m     \u001b[0;31m# Get lists from today's tables\u001b[0m\u001b[0;34m\u001b[0m\u001b[0;34m\u001b[0m\u001b[0;34m\u001b[0m\u001b[0m\n\u001b[0;32m---> 30\u001b[0;31m     \u001b[0mtodays_lists\u001b[0m\u001b[0;34m,\u001b[0m \u001b[0mtodays_date_string\u001b[0m \u001b[0;34m=\u001b[0m \u001b[0mget_todays_lists\u001b[0m\u001b[0;34m(\u001b[0m\u001b[0mthe_url\u001b[0m\u001b[0;34m)\u001b[0m\u001b[0;34m\u001b[0m\u001b[0;34m\u001b[0m\u001b[0m\n\u001b[0m\u001b[1;32m     31\u001b[0m \u001b[0;34m\u001b[0m\u001b[0m\n\u001b[1;32m     32\u001b[0m     \u001b[0mtodays_json\u001b[0m \u001b[0;34m=\u001b[0m \u001b[0;34m{\u001b[0m\u001b[0;34m}\u001b[0m\u001b[0;34m\u001b[0m\u001b[0;34m\u001b[0m\u001b[0m\n",
      "\u001b[0;32m<ipython-input-2-fa403db7052a>\u001b[0m in \u001b[0;36mget_todays_lists\u001b[0;34m(the_url)\u001b[0m\n\u001b[1;32m     24\u001b[0m     \u001b[0mthe_lists\u001b[0m \u001b[0;34m=\u001b[0m \u001b[0;34m[\u001b[0m\u001b[0mhtml_table_to_list\u001b[0m\u001b[0;34m(\u001b[0m\u001b[0mtable\u001b[0m\u001b[0;34m)\u001b[0m \u001b[0;32mfor\u001b[0m \u001b[0mtable\u001b[0m \u001b[0;32min\u001b[0m \u001b[0mtables\u001b[0m\u001b[0;34m]\u001b[0m\u001b[0;34m\u001b[0m\u001b[0;34m\u001b[0m\u001b[0m\n\u001b[1;32m     25\u001b[0m     \u001b[0mtodays_date_string\u001b[0m \u001b[0;34m=\u001b[0m \u001b[0mstr\u001b[0m\u001b[0;34m(\u001b[0m\u001b[0mtables\u001b[0m\u001b[0;34m[\u001b[0m\u001b[0;34m-\u001b[0m\u001b[0;36m1\u001b[0m\u001b[0;34m]\u001b[0m\u001b[0;34m.\u001b[0m\u001b[0mtext\u001b[0m\u001b[0;34m.\u001b[0m\u001b[0msplit\u001b[0m\u001b[0;34m(\u001b[0m\u001b[0;34m'Posted Date:'\u001b[0m\u001b[0;34m)\u001b[0m\u001b[0;34m[\u001b[0m\u001b[0;34m-\u001b[0m\u001b[0;36m1\u001b[0m\u001b[0;34m]\u001b[0m\u001b[0;34m.\u001b[0m\u001b[0msplit\u001b[0m\u001b[0;34m(\u001b[0m\u001b[0;34m'\\n'\u001b[0m\u001b[0;34m)\u001b[0m\u001b[0;34m[\u001b[0m\u001b[0;36m0\u001b[0m\u001b[0;34m]\u001b[0m\u001b[0;34m.\u001b[0m\u001b[0mreplace\u001b[0m\u001b[0;34m(\u001b[0m\u001b[0;34m' '\u001b[0m\u001b[0;34m,\u001b[0m\u001b[0;34m''\u001b[0m\u001b[0;34m)\u001b[0m\u001b[0;34m)\u001b[0m\u001b[0;34m\u001b[0m\u001b[0;34m\u001b[0m\u001b[0m\n\u001b[0;32m---> 26\u001b[0;31m     \u001b[0;32mreturn\u001b[0m \u001b[0mthe_lists\u001b[0m\u001b[0;34m,\u001b[0m \u001b[0mdate_string\u001b[0m\u001b[0;34m\u001b[0m\u001b[0;34m\u001b[0m\u001b[0m\n\u001b[0m\u001b[1;32m     27\u001b[0m \u001b[0;34m\u001b[0m\u001b[0m\n\u001b[1;32m     28\u001b[0m \u001b[0;32mdef\u001b[0m \u001b[0mget_todays_json\u001b[0m\u001b[0;34m(\u001b[0m\u001b[0mthe_url\u001b[0m\u001b[0;34m)\u001b[0m\u001b[0;34m:\u001b[0m\u001b[0;34m\u001b[0m\u001b[0;34m\u001b[0m\u001b[0m\n",
      "\u001b[0;31mNameError\u001b[0m: name 'date_string' is not defined"
     ]
    }
   ],
   "source": [
    "# Append to the base file if today's data is different\n",
    "append_todays_json(out_filename, url)"
   ]
  },
  {
   "cell_type": "code",
   "execution_count": 5,
   "metadata": {},
   "outputs": [],
   "source": [
    "todays_info = get_todays_info(url)"
   ]
  },
  {
   "cell_type": "code",
   "execution_count": null,
   "metadata": {},
   "outputs": [],
   "source": []
  }
 ]
}