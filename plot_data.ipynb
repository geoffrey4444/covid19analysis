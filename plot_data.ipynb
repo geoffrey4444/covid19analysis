{
 "nbformat": 4,
 "nbformat_minor": 2,
 "metadata": {
  "language_info": {
   "name": "python",
   "codemirror_mode": {
    "name": "ipython",
    "version": 3
   },
   "version": "3.7.5-final"
  },
  "orig_nbformat": 2,
  "file_extension": ".py",
  "mimetype": "text/x-python",
  "name": "python",
  "npconvert_exporter": "python",
  "pygments_lexer": "ipython3",
  "version": 3,
  "kernelspec": {
   "name": "python37564bitpy37conda77ac5beb731349fc9914c857e6b71b0f",
   "display_name": "Python 3.7.5 64-bit ('py37': conda)"
  }
 },
 "cells": [
  {
   "cell_type": "markdown",
   "metadata": {},
   "source": [
    "## COVID19 plots\n",
    "\n",
    "This notebook just plots some covid19 data, provided by https://datahub.io/core/covid-19"
   ],
   "execution_count": null,
   "outputs": []
  },
  {
   "cell_type": "code",
   "execution_count": null,
   "metadata": {},
   "outputs": [],
   "source": [
    "from datapackage import Package\n",
    "import matplotlib\n",
    "from matplotlib import pyplot as plt\n",
    "import matplotlib.dates as mdates\n",
    "import matplotlib.ticker as ticker\n",
    "import numpy as np\n",
    "import datetime\n",
    "from datetime import date\n",
    "\n",
    "font = {'family': 'Times', 'size': 22}\n",
    "matplotlib.rc('font', **font)"
   ]
  },
  {
   "cell_type": "code",
   "execution_count": null,
   "metadata": {},
   "outputs": [],
   "source": [
    "package = Package('https://datahub.io/core/covid-19/datapackage.json')"
   ]
  },
  {
   "cell_type": "code",
   "execution_count": null,
   "metadata": {
    "tags": [
     "outputPrepend"
    ]
   },
   "outputs": [],
   "source": [
    "# Get the time series data\n",
    "for resource in package.resources:\n",
    "    if resource.descriptor['datahub']['type'] == 'derived/csv':\n",
    "        if resource.descriptor['name'] == 'time-series-19-covid-combined_csv':\n",
    "            data = resource.read(keyed=True)\n",
    "        if resource.descriptor['name'] == 'countries-aggregated_csv':\n",
    "            data_agg = resource.read(keyed=True)"
   ]
  },
  {
   "cell_type": "code",
   "execution_count": null,
   "metadata": {},
   "outputs": [],
   "source": [
    "# Extract data points for specific U.S. states\n",
    "def get_data_for_state(data, state):\n",
    "    state_data = {}\n",
    "    for key in data[0]:\n",
    "        state_data[key] = []\n",
    "    for point in data: \n",
    "        for key in point:\n",
    "            if point['Province/State'] == state:\n",
    "                state_data[key].append(point[key])\n",
    "    return state_data\n",
    "\n",
    "def get_data_for_country(data_agg, country):\n",
    "    country_data = {}\n",
    "    for key in data_agg[0]:\n",
    "        country_data[key] = []\n",
    "    for point in data_agg:\n",
    "        for key in point:\n",
    "            if point['Country'] == country:\n",
    "                country_data[key].append(point[key])\n",
    "    return country_data\n",
    "\n",
    "data_ca = get_data_for_state(data, 'California')\n",
    "data_ny = get_data_for_state(data, 'New York')\n",
    "data_pa = get_data_for_state(data, 'Pennsylvania')\n",
    "\n",
    "data_usa = get_data_for_country(data_agg, 'US')\n",
    "data_canada = get_data_for_country(data_agg, 'Canada')"
   ]
  },
  {
   "cell_type": "code",
   "execution_count": null,
   "metadata": {},
   "outputs": [],
   "source": [
    "def plot_time_series(data_to_plot, keys_to_plot, yrange=[1.0e0, 1.0e4], title_key='Province/State'):\n",
    "    colors = ['b', 'r', 'g']\n",
    "    plt.clf()\n",
    "    fig = plt.figure(figsize=(16,4))\n",
    "    ax = plt.gca()\n",
    "    ax.xaxis.set_major_locator(mdates.DayLocator())\n",
    "    ax.xaxis.set_major_formatter(mdates.DateFormatter('%b %d'))\n",
    "    ax.xaxis.set_minor_locator(mdates.DayLocator())\n",
    "    for i,key in enumerate(keys_to_plot):\n",
    "        plt.plot_date(data_to_plot['Date'], data_to_plot[key], \".\"+colors[i]+\"-\", linewidth=2, markersize=10, label=key)\n",
    "    plt.xticks(rotation=90)\n",
    "    plt.yscale('log')\n",
    "    plt.xlim(datetime.date(2020, 3, 9), date.today())\n",
    "    plt.ylim(yrange[0],yrange[-1])\n",
    "    plt.xlabel('Date')\n",
    "    plt.legend(loc='best')\n",
    "    plt.title(data_to_plot[title_key][0])\n",
    "    ax.yaxis.set_major_locator(ticker.LogLocator(base=10.0, numticks=100))\n",
    "    plt.grid()\n",
    "    plt.show()"
   ]
  },
  {
   "cell_type": "code",
   "execution_count": null,
   "metadata": {},
   "outputs": [],
   "source": [
    "plot_ranges = [1.0e0, 1.0e6]\n",
    "plot_keys = ['Confirmed', 'Deaths']"
   ]
  },
  {
   "cell_type": "code",
   "execution_count": null,
   "metadata": {},
   "outputs": [],
   "source": [
    "plot_time_series(data_ca, plot_keys, plot_ranges)"
   ]
  },
  {
   "cell_type": "code",
   "execution_count": null,
   "metadata": {},
   "outputs": [],
   "source": [
    "plot_time_series(data_ny, plot_keys, plot_ranges)"
   ]
  },
  {
   "cell_type": "code",
   "execution_count": null,
   "metadata": {},
   "outputs": [],
   "source": [
    "plot_time_series(data_pa, plot_keys, plot_ranges)"
   ]
  },
  {
   "cell_type": "code",
   "execution_count": null,
   "metadata": {},
   "outputs": [],
   "source": [
    "plot_time_series(data_usa, plot_keys, plot_ranges, title_key='Country')"
   ]
  },
  {
   "cell_type": "code",
   "execution_count": null,
   "metadata": {},
   "outputs": [],
   "source": [
    "plot_time_series(data_canada, plot_keys, plot_ranges, title_key='Country')"
   ]
  },
  {
   "cell_type": "code",
   "execution_count": null,
   "metadata": {},
   "outputs": [],
   "source": []
  }
 ]
}